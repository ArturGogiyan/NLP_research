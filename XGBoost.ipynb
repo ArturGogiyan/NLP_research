{
 "cells": [
  {
   "cell_type": "markdown",
   "source": [
    "[![Open In Colab](https://colab.research.google.com/assets/colab-badge.svg)](https://colab.research.google.com/github/ArturGogiyan/NLP_research/blob/master/XGBoost.ipynb)"
   ],
   "metadata": {
    "collapsed": false
   }
  },
  {
   "cell_type": "markdown",
   "source": [
    "# Configure environment"
   ],
   "metadata": {
    "collapsed": false
   }
  },
  {
   "cell_type": "markdown",
   "source": [
    "Following section required only if you're running this code in google collab, so if you need uncomment it and run"
   ],
   "metadata": {
    "collapsed": false
   }
  },
  {
   "cell_type": "code",
   "execution_count": 1,
   "outputs": [],
   "source": [
    "# !git clone https://github.com/ArturGogiyan/NLP_research.git\n",
    "# %cd NLP_research\n",
    "# !pip install -r './requirements.txt'"
   ],
   "metadata": {
    "collapsed": false,
    "pycharm": {
     "name": "#%%\n"
    }
   }
  },
  {
   "cell_type": "markdown",
   "source": [
    "# Dataset loading"
   ],
   "metadata": {
    "collapsed": false
   }
  },
  {
   "cell_type": "code",
   "execution_count": 2,
   "outputs": [
    {
     "name": "stdout",
     "output_type": "stream",
     "text": [
      "Requirement already satisfied: dvc[gdrive] in ./venv/lib/python3.8/site-packages (2.9.3)\r\n",
      "Requirement already satisfied: pathspec<0.10.0,>=0.9.0 in ./venv/lib/python3.8/site-packages (from dvc[gdrive]) (0.9.0)\r\n",
      "Requirement already satisfied: configobj>=5.0.6 in ./venv/lib/python3.8/site-packages (from dvc[gdrive]) (5.0.6)\r\n",
      "Requirement already satisfied: pyparsing>=2.4.7 in ./venv/lib/python3.8/site-packages (from dvc[gdrive]) (3.0.6)\r\n",
      "Requirement already satisfied: grandalf==0.6 in ./venv/lib/python3.8/site-packages (from dvc[gdrive]) (0.6)\r\n",
      "Requirement already satisfied: networkx>=2.5 in ./venv/lib/python3.8/site-packages (from dvc[gdrive]) (2.6.3)\r\n",
      "Requirement already satisfied: tqdm<5,>=4.45.0 in ./venv/lib/python3.8/site-packages (from dvc[gdrive]) (4.62.3)\r\n",
      "Requirement already satisfied: pygtrie>=2.3.2 in ./venv/lib/python3.8/site-packages (from dvc[gdrive]) (2.4.2)\r\n",
      "Requirement already satisfied: ruamel.yaml>=0.17.11 in ./venv/lib/python3.8/site-packages (from dvc[gdrive]) (0.17.19)\r\n",
      "Requirement already satisfied: tabulate>=0.8.7 in ./venv/lib/python3.8/site-packages (from dvc[gdrive]) (0.8.9)\r\n",
      "Requirement already satisfied: flatten-dict<1,>=0.4.1 in ./venv/lib/python3.8/site-packages (from dvc[gdrive]) (0.4.2)\r\n",
      "Requirement already satisfied: pydot>=1.2.4 in ./venv/lib/python3.8/site-packages (from dvc[gdrive]) (1.4.2)\r\n",
      "Requirement already satisfied: scmrepo==0.0.7 in ./venv/lib/python3.8/site-packages (from dvc[gdrive]) (0.0.7)\r\n",
      "Requirement already satisfied: zc.lockfile>=1.2.1 in ./venv/lib/python3.8/site-packages (from dvc[gdrive]) (2.0)\r\n",
      "Requirement already satisfied: appdirs>=1.4.3 in ./venv/lib/python3.8/site-packages (from dvc[gdrive]) (1.4.4)\r\n",
      "Requirement already satisfied: python-benedict>=0.24.2 in ./venv/lib/python3.8/site-packages (from dvc[gdrive]) (0.24.3)\r\n",
      "Requirement already satisfied: nanotime>=0.5.2 in ./venv/lib/python3.8/site-packages (from dvc[gdrive]) (0.5.2)\r\n",
      "Requirement already satisfied: diskcache>=5.2.1 in ./venv/lib/python3.8/site-packages (from dvc[gdrive]) (5.3.0)\r\n",
      "Requirement already satisfied: dpath<3,>=2.0.2 in ./venv/lib/python3.8/site-packages (from dvc[gdrive]) (2.0.5)\r\n",
      "Requirement already satisfied: voluptuous>=0.11.7 in ./venv/lib/python3.8/site-packages (from dvc[gdrive]) (0.12.2)\r\n",
      "Requirement already satisfied: toml>=0.10.1 in ./venv/lib/python3.8/site-packages (from dvc[gdrive]) (0.10.2)\r\n",
      "Requirement already satisfied: shtab<2,>=1.3.4 in ./venv/lib/python3.8/site-packages (from dvc[gdrive]) (1.5.2)\r\n",
      "Requirement already satisfied: dictdiffer>=0.8.1 in ./venv/lib/python3.8/site-packages (from dvc[gdrive]) (0.9.0)\r\n",
      "Requirement already satisfied: typing-extensions>=3.7.4 in ./venv/lib/python3.8/site-packages (from dvc[gdrive]) (4.0.1)\r\n",
      "Requirement already satisfied: rich>=10.13.0 in ./venv/lib/python3.8/site-packages (from dvc[gdrive]) (10.16.1)\r\n",
      "Requirement already satisfied: shortuuid>=0.5.0 in ./venv/lib/python3.8/site-packages (from dvc[gdrive]) (1.0.8)\r\n",
      "Requirement already satisfied: flufl.lock>=5 in ./venv/lib/python3.8/site-packages (from dvc[gdrive]) (6.0)\r\n",
      "Requirement already satisfied: pyasn1>=0.4.1 in ./venv/lib/python3.8/site-packages (from dvc[gdrive]) (0.4.8)\r\n",
      "Requirement already satisfied: colorama>=0.3.9 in ./venv/lib/python3.8/site-packages (from dvc[gdrive]) (0.4.4)\r\n",
      "Requirement already satisfied: fsspec[http]>=2021.10.1 in ./venv/lib/python3.8/site-packages (from dvc[gdrive]) (2021.11.1)\r\n",
      "Requirement already satisfied: ply>=3.9 in ./venv/lib/python3.8/site-packages (from dvc[gdrive]) (3.11)\r\n",
      "Requirement already satisfied: funcy>=1.14 in ./venv/lib/python3.8/site-packages (from dvc[gdrive]) (1.17)\r\n",
      "Requirement already satisfied: aiohttp-retry>=2.4.5 in ./venv/lib/python3.8/site-packages (from dvc[gdrive]) (2.4.6)\r\n",
      "Requirement already satisfied: requests>=2.22.0 in ./venv/lib/python3.8/site-packages (from dvc[gdrive]) (2.26.0)\r\n",
      "Requirement already satisfied: psutil>=5.8.0 in ./venv/lib/python3.8/site-packages (from dvc[gdrive]) (5.8.0)\r\n",
      "Requirement already satisfied: importlib-resources>=5.2.2 in ./venv/lib/python3.8/site-packages (from dvc[gdrive]) (5.4.0)\r\n",
      "Requirement already satisfied: packaging>=19.0 in ./venv/lib/python3.8/site-packages (from dvc[gdrive]) (21.3)\r\n",
      "Requirement already satisfied: distro>=1.3.0 in ./venv/lib/python3.8/site-packages (from dvc[gdrive]) (1.6.0)\r\n",
      "Requirement already satisfied: pydrive2[fsspec]>=1.9.4 in ./venv/lib/python3.8/site-packages (from dvc[gdrive]) (1.10.0)\r\n",
      "Requirement already satisfied: future in ./venv/lib/python3.8/site-packages (from grandalf==0.6->dvc[gdrive]) (0.18.2)\r\n",
      "Requirement already satisfied: pygit2>=1.5.0 in ./venv/lib/python3.8/site-packages (from scmrepo==0.0.7->dvc[gdrive]) (1.7.2)\r\n",
      "Requirement already satisfied: asyncssh<2.9,>=2.7.1 in ./venv/lib/python3.8/site-packages (from scmrepo==0.0.7->dvc[gdrive]) (2.8.1)\r\n",
      "Requirement already satisfied: gitpython>3 in ./venv/lib/python3.8/site-packages (from scmrepo==0.0.7->dvc[gdrive]) (3.1.24)\r\n",
      "Requirement already satisfied: dulwich>=0.20.23 in ./venv/lib/python3.8/site-packages (from scmrepo==0.0.7->dvc[gdrive]) (0.20.26)\r\n",
      "Requirement already satisfied: aiohttp in ./venv/lib/python3.8/site-packages (from aiohttp-retry>=2.4.5->dvc[gdrive]) (3.8.1)\r\n",
      "Requirement already satisfied: cryptography>=2.8 in ./venv/lib/python3.8/site-packages (from asyncssh<2.9,>=2.7.1->scmrepo==0.0.7->dvc[gdrive]) (36.0.1)\r\n",
      "Requirement already satisfied: six in ./venv/lib/python3.8/site-packages (from configobj>=5.0.6->dvc[gdrive]) (1.16.0)\r\n",
      "Requirement already satisfied: cffi>=1.12 in ./venv/lib/python3.8/site-packages (from cryptography>=2.8->asyncssh<2.9,>=2.7.1->scmrepo==0.0.7->dvc[gdrive]) (1.15.0)\r\n",
      "Requirement already satisfied: pycparser in ./venv/lib/python3.8/site-packages (from cffi>=1.12->cryptography>=2.8->asyncssh<2.9,>=2.7.1->scmrepo==0.0.7->dvc[gdrive]) (2.21)\r\n",
      "Requirement already satisfied: urllib3>=1.24.1 in ./venv/lib/python3.8/site-packages (from dulwich>=0.20.23->scmrepo==0.0.7->dvc[gdrive]) (1.26.7)\r\n",
      "Requirement already satisfied: certifi in ./venv/lib/python3.8/site-packages (from dulwich>=0.20.23->scmrepo==0.0.7->dvc[gdrive]) (2021.10.8)\r\n",
      "Requirement already satisfied: atpublic in ./venv/lib/python3.8/site-packages (from flufl.lock>=5->dvc[gdrive]) (2.3)\r\n",
      "Requirement already satisfied: gitdb<5,>=4.0.1 in ./venv/lib/python3.8/site-packages (from gitpython>3->scmrepo==0.0.7->dvc[gdrive]) (4.0.9)\r\n",
      "Requirement already satisfied: smmap<6,>=3.0.1 in ./venv/lib/python3.8/site-packages (from gitdb<5,>=4.0.1->gitpython>3->scmrepo==0.0.7->dvc[gdrive]) (5.0.0)\r\n",
      "Requirement already satisfied: zipp>=3.1.0 in ./venv/lib/python3.8/site-packages (from importlib-resources>=5.2.2->dvc[gdrive]) (3.6.0)\r\n",
      "Requirement already satisfied: oauth2client>=4.0.0 in ./venv/lib/python3.8/site-packages (from pydrive2[fsspec]>=1.9.4->dvc[gdrive]) (4.1.3)\r\n",
      "Requirement already satisfied: google-api-python-client>=1.12.5 in ./venv/lib/python3.8/site-packages (from pydrive2[fsspec]>=1.9.4->dvc[gdrive]) (2.33.0)\r\n",
      "Requirement already satisfied: pyOpenSSL>=19.1.0 in ./venv/lib/python3.8/site-packages (from pydrive2[fsspec]>=1.9.4->dvc[gdrive]) (21.0.0)\r\n",
      "Requirement already satisfied: PyYAML>=3.0 in ./venv/lib/python3.8/site-packages (from pydrive2[fsspec]>=1.9.4->dvc[gdrive]) (6.0)\r\n",
      "Requirement already satisfied: google-api-core<3.0.0dev,>=1.21.0 in ./venv/lib/python3.8/site-packages (from google-api-python-client>=1.12.5->pydrive2[fsspec]>=1.9.4->dvc[gdrive]) (2.3.2)\r\n",
      "Requirement already satisfied: google-auth<3.0.0dev,>=1.16.0 in ./venv/lib/python3.8/site-packages (from google-api-python-client>=1.12.5->pydrive2[fsspec]>=1.9.4->dvc[gdrive]) (2.3.3)\r\n",
      "Requirement already satisfied: uritemplate<5,>=3.0.0 in ./venv/lib/python3.8/site-packages (from google-api-python-client>=1.12.5->pydrive2[fsspec]>=1.9.4->dvc[gdrive]) (4.1.1)\r\n",
      "Requirement already satisfied: httplib2<1dev,>=0.15.0 in ./venv/lib/python3.8/site-packages (from google-api-python-client>=1.12.5->pydrive2[fsspec]>=1.9.4->dvc[gdrive]) (0.20.2)\r\n",
      "Requirement already satisfied: google-auth-httplib2>=0.1.0 in ./venv/lib/python3.8/site-packages (from google-api-python-client>=1.12.5->pydrive2[fsspec]>=1.9.4->dvc[gdrive]) (0.1.0)\r\n",
      "Requirement already satisfied: setuptools>=40.3.0 in ./venv/lib/python3.8/site-packages (from google-api-core<3.0.0dev,>=1.21.0->google-api-python-client>=1.12.5->pydrive2[fsspec]>=1.9.4->dvc[gdrive]) (57.0.0)\r\n",
      "Requirement already satisfied: googleapis-common-protos<2.0dev,>=1.52.0 in ./venv/lib/python3.8/site-packages (from google-api-core<3.0.0dev,>=1.21.0->google-api-python-client>=1.12.5->pydrive2[fsspec]>=1.9.4->dvc[gdrive]) (1.54.0)\r\n",
      "Requirement already satisfied: protobuf>=3.12.0 in ./venv/lib/python3.8/site-packages (from google-api-core<3.0.0dev,>=1.21.0->google-api-python-client>=1.12.5->pydrive2[fsspec]>=1.9.4->dvc[gdrive]) (3.19.1)\r\n",
      "Requirement already satisfied: rsa<5,>=3.1.4 in ./venv/lib/python3.8/site-packages (from google-auth<3.0.0dev,>=1.16.0->google-api-python-client>=1.12.5->pydrive2[fsspec]>=1.9.4->dvc[gdrive]) (4.8)\r\n",
      "Requirement already satisfied: cachetools<5.0,>=2.0.0 in ./venv/lib/python3.8/site-packages (from google-auth<3.0.0dev,>=1.16.0->google-api-python-client>=1.12.5->pydrive2[fsspec]>=1.9.4->dvc[gdrive]) (4.2.4)\r\n",
      "Requirement already satisfied: pyasn1-modules>=0.2.1 in ./venv/lib/python3.8/site-packages (from google-auth<3.0.0dev,>=1.16.0->google-api-python-client>=1.12.5->pydrive2[fsspec]>=1.9.4->dvc[gdrive]) (0.2.8)\r\n",
      "Requirement already satisfied: python-dateutil in ./venv/lib/python3.8/site-packages (from python-benedict>=0.24.2->dvc[gdrive]) (2.8.2)\r\n",
      "Requirement already satisfied: ftfy in ./venv/lib/python3.8/site-packages (from python-benedict>=0.24.2->dvc[gdrive]) (6.0.3)\r\n",
      "Requirement already satisfied: python-slugify in ./venv/lib/python3.8/site-packages (from python-benedict>=0.24.2->dvc[gdrive]) (5.0.2)\r\n",
      "Requirement already satisfied: mailchecker in ./venv/lib/python3.8/site-packages (from python-benedict>=0.24.2->dvc[gdrive]) (4.1.6)\r\n",
      "Requirement already satisfied: xmltodict in ./venv/lib/python3.8/site-packages (from python-benedict>=0.24.2->dvc[gdrive]) (0.12.0)\r\n",
      "Requirement already satisfied: python-fsutil in ./venv/lib/python3.8/site-packages (from python-benedict>=0.24.2->dvc[gdrive]) (0.5.0)\r\n",
      "Requirement already satisfied: phonenumbers in ./venv/lib/python3.8/site-packages (from python-benedict>=0.24.2->dvc[gdrive]) (8.12.40)\r\n",
      "Requirement already satisfied: charset-normalizer~=2.0.0 in ./venv/lib/python3.8/site-packages (from requests>=2.22.0->dvc[gdrive]) (2.0.9)\r\n",
      "Requirement already satisfied: idna<4,>=2.5 in ./venv/lib/python3.8/site-packages (from requests>=2.22.0->dvc[gdrive]) (3.3)\r\n",
      "Requirement already satisfied: commonmark<0.10.0,>=0.9.0 in ./venv/lib/python3.8/site-packages (from rich>=10.13.0->dvc[gdrive]) (0.9.1)\r\n",
      "Requirement already satisfied: pygments<3.0.0,>=2.6.0 in ./venv/lib/python3.8/site-packages (from rich>=10.13.0->dvc[gdrive]) (2.10.0)\r\n",
      "Requirement already satisfied: ruamel.yaml.clib>=0.2.6 in ./venv/lib/python3.8/site-packages (from ruamel.yaml>=0.17.11->dvc[gdrive]) (0.2.6)\r\n",
      "Requirement already satisfied: yarl<2.0,>=1.0 in ./venv/lib/python3.8/site-packages (from aiohttp->aiohttp-retry>=2.4.5->dvc[gdrive]) (1.7.2)\r\n",
      "Requirement already satisfied: async-timeout<5.0,>=4.0.0a3 in ./venv/lib/python3.8/site-packages (from aiohttp->aiohttp-retry>=2.4.5->dvc[gdrive]) (4.0.2)\r\n",
      "Requirement already satisfied: aiosignal>=1.1.2 in ./venv/lib/python3.8/site-packages (from aiohttp->aiohttp-retry>=2.4.5->dvc[gdrive]) (1.2.0)\r\n",
      "Requirement already satisfied: frozenlist>=1.1.1 in ./venv/lib/python3.8/site-packages (from aiohttp->aiohttp-retry>=2.4.5->dvc[gdrive]) (1.2.0)\r\n",
      "Requirement already satisfied: attrs>=17.3.0 in ./venv/lib/python3.8/site-packages (from aiohttp->aiohttp-retry>=2.4.5->dvc[gdrive]) (21.2.0)\r\n",
      "Requirement already satisfied: multidict<7.0,>=4.5 in ./venv/lib/python3.8/site-packages (from aiohttp->aiohttp-retry>=2.4.5->dvc[gdrive]) (5.2.0)\r\n",
      "Requirement already satisfied: wcwidth in ./venv/lib/python3.8/site-packages (from ftfy->python-benedict>=0.24.2->dvc[gdrive]) (0.2.5)\r\n",
      "Requirement already satisfied: text-unidecode>=1.3 in ./venv/lib/python3.8/site-packages (from python-slugify->python-benedict>=0.24.2->dvc[gdrive]) (1.3)\r\n",
      "WARNING: You are using pip version 21.1.2; however, version 21.3.1 is available.\r\n",
      "You should consider upgrading via the '/home/basicec/PycharmProjects/NLP_research2/venv/bin/python -m pip install --upgrade pip' command.\r\n"
     ]
    }
   ],
   "source": [
    "import pandas as pd\n",
    "import dvc.api\n",
    "\n",
    "!pip install 'dvc[gdrive]'"
   ],
   "metadata": {
    "collapsed": false,
    "pycharm": {
     "name": "#%%\n"
    }
   }
  },
  {
   "cell_type": "code",
   "execution_count": 3,
   "outputs": [],
   "source": [
    "def read_dataset():\n",
    "    with dvc.api.open('dataset/post_processed.csv', repo='https://github.com/ArturGogiyan/NLP_research') as fd:\n",
    "        return pd.read_csv(fd)"
   ],
   "metadata": {
    "collapsed": false,
    "pycharm": {
     "name": "#%%\n"
    }
   }
  },
  {
   "cell_type": "code",
   "execution_count": 5,
   "outputs": [
    {
     "name": "stderr",
     "output_type": "stream",
     "text": [
      "/home/basicec/PycharmProjects/NLP_research2/venv/lib/python3.8/site-packages/oauth2client/_helpers.py:255: UserWarning: Cannot access /tmp/tmp54tmtzwxdvc-clone/.dvc/tmp/gdrive-user-credentials.json: No such file or directory\n",
      "  warnings.warn(_MISSING_FILE_MESSAGE.format(filename))\n"
     ]
    },
    {
     "name": "stdout",
     "output_type": "stream",
     "text": [
      "Go to the following link in your browser:\n",
      "\n",
      "    https://accounts.google.com/o/oauth2/auth?client_id=710796635688-iivsgbgsb6uv1fap6635dhvuei09o66c.apps.googleusercontent.com&redirect_uri=urn%3Aietf%3Awg%3Aoauth%3A2.0%3Aoob&scope=https%3A%2F%2Fwww.googleapis.com%2Fauth%2Fdrive+https%3A%2F%2Fwww.googleapis.com%2Fauth%2Fdrive.appdata&access_type=offline&response_type=code&approval_prompt=force\n",
      "\n",
      "Authentication successful.\n",
      "Shape of data=> (5000, 17)\n"
     ]
    }
   ],
   "source": [
    "df = read_dataset()\n",
    "\n",
    "print(\"Shape of data=>\", df.shape)"
   ],
   "metadata": {
    "collapsed": false,
    "pycharm": {
     "name": "#%%\n"
    }
   }
  },
  {
   "cell_type": "markdown",
   "source": [
    "# Non-neural network processing"
   ],
   "metadata": {
    "collapsed": false
   }
  },
  {
   "cell_type": "markdown",
   "source": [
    "## Preparations"
   ],
   "metadata": {
    "collapsed": false
   }
  },
  {
   "cell_type": "markdown",
   "source": [
    "Resources needed:"
   ],
   "metadata": {
    "collapsed": false
   }
  },
  {
   "cell_type": "code",
   "execution_count": 6,
   "outputs": [],
   "source": [
    "import xgboost as xgb\n",
    "import numpy as np\n",
    "from sklearn.metrics import precision_score, recall_score, accuracy_score\n",
    "\n",
    "from common import bagofwords\n",
    "from common import utils"
   ],
   "metadata": {
    "collapsed": false,
    "pycharm": {
     "name": "#%%\n"
    }
   }
  },
  {
   "cell_type": "markdown",
   "source": [
    "## XGBoost"
   ],
   "metadata": {
    "collapsed": false
   }
  },
  {
   "cell_type": "code",
   "execution_count": 7,
   "outputs": [
    {
     "name": "stdout",
     "output_type": "stream",
     "text": [
      "[20:18:09] WARNING: ../src/learner.cc:1115: Starting in XGBoost 1.3.0, the default evaluation metric used with the objective 'multi:softprob' was changed from 'merror' to 'mlogloss'. Explicitly set eval_metric if you'd like to restore the old behavior.\n"
     ]
    },
    {
     "name": "stderr",
     "output_type": "stream",
     "text": [
      "/home/basicec/PycharmProjects/NLP_research2/venv/lib/python3.8/site-packages/sklearn/metrics/_classification.py:1318: UndefinedMetricWarning: Precision is ill-defined and being set to 0.0 in labels with no predicted samples. Use `zero_division` parameter to control this behavior.\n",
      "  _warn_prf(average, modifier, msg_start, len(result))\n"
     ]
    },
    {
     "name": "stdout",
     "output_type": "stream",
     "text": [
      "Precision = 0.4597434542682396\n",
      "Recall = 0.37303161097325616\n",
      "Accuracy = 0.8412\n"
     ]
    }
   ],
   "source": [
    "def xgb_test(test_percentage):\n",
    "    texts_train, texts_test, y_train, y_test = utils.get_train_and_test(df, \"All\", test_percentage)\n",
    "    if len(texts_train) == 0:\n",
    "        print(\"Class entities amount is too small! Ignoring...\")\n",
    "        return [], [], []\n",
    "\n",
    "    bow = bagofwords.BagOfWords(texts_train)\n",
    "    X_train_bow = np.stack(list(map(bow.text_to_bow, texts_train)))\n",
    "    X_test_bow = np.stack(list(map(bow.text_to_bow, texts_test)))\n",
    "    D_train = xgb.DMatrix(X_train_bow, label=y_train)\n",
    "    D_test = xgb.DMatrix(X_test_bow, label=y_test)\n",
    "\n",
    "    param = {\n",
    "        'eta': 0.3,\n",
    "        'max_depth': 3,\n",
    "        'objective': 'multi:softprob',\n",
    "        'num_class': len(list(df.columns.values))}\n",
    "\n",
    "    steps = 20\n",
    "\n",
    "    xgb_model = xgb.train(param, D_train, steps)\n",
    "\n",
    "    preds = xgb_model.predict(D_test)\n",
    "    best_preds = np.asarray([np.argmax(line) for line in preds])\n",
    "\n",
    "    print(\"Precision = {}\".format(precision_score(y_test, best_preds, average='macro')))\n",
    "    print(\"Recall = {}\".format(recall_score(y_test, best_preds, average='macro')))\n",
    "    print(\"Accuracy = {}\".format(accuracy_score(y_test, best_preds)))\n",
    "    return xgb_model, bow\n",
    "\n",
    "\n",
    "xgb_model, bow = xgb_test(50)\n",
    "xgb_model.save_model('./model/xgb.json')\n",
    "bow.save('./model/xgb_bow.json')"
   ],
   "metadata": {
    "collapsed": false,
    "pycharm": {
     "name": "#%%\n"
    }
   }
  },
  {
   "cell_type": "code",
   "execution_count": null,
   "outputs": [],
   "source": [],
   "metadata": {
    "collapsed": false,
    "pycharm": {
     "name": "#%%\n"
    }
   }
  }
 ],
 "metadata": {
  "kernelspec": {
   "display_name": "Python 3",
   "language": "python",
   "name": "python3"
  },
  "language_info": {
   "codemirror_mode": {
    "name": "ipython",
    "version": 2
   },
   "file_extension": ".py",
   "mimetype": "text/x-python",
   "name": "python",
   "nbconvert_exporter": "python",
   "pygments_lexer": "ipython2",
   "version": "2.7.6"
  }
 },
 "nbformat": 4,
 "nbformat_minor": 0
}